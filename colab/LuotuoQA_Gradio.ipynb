{
  "cells": [
    {
      "cell_type": "markdown",
      "metadata": {
        "id": "view-in-github",
        "colab_type": "text"
      },
      "source": [
        "<a href=\"https://colab.research.google.com/github/LC1332/Luotuo-QA/blob/main/colab/LuotuoQA_Gradio.ipynb\" target=\"_parent\"><img src=\"https://colab.research.google.com/assets/colab-badge.svg\" alt=\"Open In Colab\"/></a>"
      ]
    },
    {
      "cell_type": "markdown",
      "source": [
        "# 骆驼QA: Better Conversational Question Answering Model with Answer Completion\n",
        "\n",
        "骆驼QA是孙骜, 廖健生, 黄泓森 , 陈舒年, 李鲁鲁开发的，阅读理解并问答的语言模型。\n",
        "\n",
        "\n",
        "<details>\n",
        "  <summary> 每一个作者都是第一作者，顺序是随机的。(点这里具体)</summary>\n",
        "\n",
        "李鲁鲁发起了项目，提出了拆分问题和使用Prompt Engineering生成更Diverse问题的方法。\n",
        "\n",
        "廖健生编写了训练架构，并完成了模型的训练，并完成了colab测试代码的编写。\n",
        "\n",
        "孙骜完成了Prompt的设计，并增广了CoQA数据集，提出了基于问题转化的训练方案\n",
        "\n",
        "黄泓森翻译了增广后的CoQA数据。\n",
        "\n",
        "陈舒年（将要）完成了Q-A的Embedding初步实验，并编写了可视化\n",
        "\n",
        "</details>"
      ],
      "metadata": {
        "id": "UUvfV0_u37tN"
      }
    },
    {
      "cell_type": "markdown",
      "source": [
        "当前暂时需要A100， High RAM的机器才能运行。\n",
        "\n",
        "其他的机器设置暂时没有经过测试\n",
        "\n",
        "照理说在之后的版本中，可以去掉A100的需求，改成T4."
      ],
      "metadata": {
        "id": "ajI5DfmY382_"
      }
    },
    {
      "cell_type": "code",
      "execution_count": null,
      "metadata": {
        "id": "lIOp2cKn02bG"
      },
      "outputs": [],
      "source": [
        "!git clone https://github.com/LC1332/Luotuo-QA.git ./luotuo_qa\n",
        "!cd ./luotuo_qa && pip install -r requirements.txt"
      ]
    },
    {
      "cell_type": "code",
      "execution_count": null,
      "metadata": {
        "id": "4x5-NKpE02bK"
      },
      "outputs": [],
      "source": [
        "from luotuo_qa.app.infer import get_model, infer\n",
        "\n",
        "from transformers import AutoTokenizer\n",
        "\n",
        "model_name: str = \"THUDM/chatglm-6b\"\n",
        "peft_path: str = \"silk-road/luotuo-qa-lora-0.1\"\n",
        "model_revision: str = \"969290547e761b20fdb96b0602b4fd8d863bbb85\"\n",
        "with_origin_model: bool = True\n",
        "\n",
        "model = get_model(model_name, peft_path)\n",
        "origin_model = None\n",
        "if with_origin_model:\n",
        "    origin_model = get_model(model_name)\n",
        "tokenizer = AutoTokenizer.from_pretrained(model_name, trust_remote_code=True, revision = model_revision)"
      ]
    },
    {
      "cell_type": "code",
      "execution_count": null,
      "metadata": {
        "id": "3vFoVNa102bL"
      },
      "outputs": [],
      "source": [
        "example_story = '''\n",
        "长妈妈曾经讲给我一个故事听：先前，有一个读书人住在古庙里用功，晚间， 在院子里纳凉的时候，突然听到有人在叫他。答应着，四面看时，却见一个美女的 脸露在墙头上，向他一笑，隐去了。他很高兴；但竟给那走来夜谈的老和尚识破了 机关。说他脸上有些妖气，一定遇见“美女蛇”了；这是人首蛇身的怪物，能唤人 名，倘一答应，夜间便要来吃这人的肉的。他自然吓得要死，而那老和尚却道无妨 ，给他一个小盒子，说只要放在枕边，便可高枕而卧。他虽然照样办，却总是睡不 着，——当然睡不着的。到半夜，果然来了，沙沙沙！门外象是风雨声。他正抖作 一团时，却听得豁的一声，一道金光从枕边飞出，外面便什么声音也没有了，那金 光也就飞回来，敛在盒子里。后来呢？后来，老和尚说，这是飞蜈蚣，它能吸蛇的 脑髓，美女蛇就被它治死了。\n",
        "'''\n",
        "example_question = '谁遇到了美女蛇？'\n",
        "\n",
        "import gradio as gr\n",
        "def main():\n",
        "    with gr.Blocks() as b:\n",
        "        with gr.Row():\n",
        "            with gr.Row():\n",
        "                with gr.Box():\n",
        "                # UI: Story input\n",
        "                    with gr.Row():\n",
        "                        story = gr.TextArea(value=example_story, label=\"Story\", lines=10, interactive=True)\n",
        "                    with gr.Row():\n",
        "                        with gr.Column(scale = 6):\n",
        "                            # UI: Question input\n",
        "                            question = gr.TextArea(value=example_question, label=\"Question\", lines=2, interactive=True)\n",
        "                        with gr.Column(scale = 1):\n",
        "                            # UI: Submit button\n",
        "                            submit = gr.Button(\"Ask\", label=\"Submit\", interactive=True, variant=\"primary\")\n",
        "        with gr.Row():\n",
        "            with gr.Box():\n",
        "                with gr.Row():\n",
        "                    with gr.Column():\n",
        "                        # UI: origin model output\n",
        "                        with gr.Row():\n",
        "                            origin_answer = gr.Textbox(label=model_name+\":\", lines=2, interactive=False)\n",
        "                    with gr.Column():\n",
        "                        # UI: Lora output\n",
        "                        with gr.Box():\n",
        "                            with gr.Row():\n",
        "                                question_as = gr.Textbox(label=\"Question escapes to:\", lines=2, interactive=False)\n",
        "                            with gr.Row():\n",
        "                                answer = gr.Textbox(label=\"Answer\", lines=2, interactive=False)\n",
        "                    with gr.Column():\n",
        "                        # UI: Lora output^2\n",
        "                        with gr.Box():\n",
        "                            with gr.Row():\n",
        "                                question_as_v2 = gr.Textbox(label=\"Question^2 escapes to:\", lines=2, interactive=False)\n",
        "                            with gr.Row():\n",
        "                                answer_v2 = gr.Textbox(label=\"Answer^2:\", lines=2, interactive=False)\n",
        "        def inner_infer(story, question):\n",
        "            return infer(model, tokenizer, story, question, origin_model = origin_model)\n",
        "        submit.click(\n",
        "                fn=inner_infer,\n",
        "                inputs=[\n",
        "                    story,\n",
        "                    question,\n",
        "                ],\n",
        "                outputs=[\n",
        "                    origin_answer,\n",
        "                    question_as,\n",
        "                    answer,\n",
        "                    question_as_v2,\n",
        "                    answer_v2,\n",
        "                ],\n",
        "                show_progress=True,\n",
        "            )\n",
        "    b.launch(prevent_thread_lock=True, share=True)\n",
        "\n",
        "if __name__ == \"__main__\":\n",
        "    main()\n",
        "\n",
        "    import time\n",
        "    while True:\n",
        "        time.sleep(0.5)"
      ]
    },
    {
      "cell_type": "markdown",
      "source": [
        "运行上面的Cell，然后点击链接就可以玩了"
      ],
      "metadata": {
        "id": "MOnRkTQ54Dqp"
      }
    },
    {
      "cell_type": "code",
      "source": [],
      "metadata": {
        "id": "QXzVCsDX1DFI"
      },
      "execution_count": null,
      "outputs": []
    },
    {
      "cell_type": "code",
      "source": [],
      "metadata": {
        "id": "PSpUfOFM1DcH"
      },
      "execution_count": null,
      "outputs": []
    }
  ],
  "metadata": {
    "kernelspec": {
      "display_name": "Python 3",
      "language": "python",
      "name": "python3"
    },
    "language_info": {
      "codemirror_mode": {
        "name": "ipython",
        "version": 3
      },
      "file_extension": ".py",
      "mimetype": "text/x-python",
      "name": "python",
      "nbconvert_exporter": "python",
      "pygments_lexer": "ipython3",
      "version": "3.10.10"
    },
    "orig_nbformat": 4,
    "colab": {
      "provenance": [],
      "machine_shape": "hm",
      "include_colab_link": true
    },
    "accelerator": "GPU",
    "gpuClass": "premium"
  },
  "nbformat": 4,
  "nbformat_minor": 0
}