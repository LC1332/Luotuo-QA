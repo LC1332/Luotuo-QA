{
 "cells": [
  {
   "cell_type": "code",
   "execution_count": null,
   "metadata": {},
   "outputs": [],
   "source": [
    "!git clone https://github.com/LC1332/Luotuo-QA.git\n",
    "!cd ./Luotuo-QA && pip install -r requirements.txt"
   ]
  },
  {
   "cell_type": "code",
   "execution_count": null,
   "metadata": {},
   "outputs": [],
   "source": [
    "from infer import get_model, infer, example_story, example_question\n",
    "\n",
    "from transformers import AutoTokenizer\n",
    "\n",
    "model_name: str = \"THUDM/chatglm-6b\"\n",
    "peft_path: str = \"silk-road/luotuo-qa-lora-0.1\"\n",
    "model_revision: str = \"969290547e761b20fdb96b0602b4fd8d863bbb85\"\n",
    "with_origin_model: bool = True\n",
    "\n",
    "model = get_model(model_name, peft_path)\n",
    "origin_model = None\n",
    "if with_origin_model:\n",
    "    origin_model = get_model(model_name)\n",
    "tokenizer = AutoTokenizer.from_pretrained(model_name, trust_remote_code=True, revision = model_revision)"
   ]
  },
  {
   "cell_type": "code",
   "execution_count": null,
   "metadata": {},
   "outputs": [],
   "source": [
    "story = example_story\n",
    "question = example_question\n",
    "\n",
    "infer(model, tokenizer, story, question, origin_model = origin_model)"
   ]
  }
 ],
 "metadata": {
  "kernelspec": {
   "display_name": "Python 3",
   "language": "python",
   "name": "python3"
  },
  "language_info": {
   "codemirror_mode": {
    "name": "ipython",
    "version": 3
   },
   "file_extension": ".py",
   "mimetype": "text/x-python",
   "name": "python",
   "nbconvert_exporter": "python",
   "pygments_lexer": "ipython3",
   "version": "3.10.10"
  },
  "orig_nbformat": 4
 },
 "nbformat": 4,
 "nbformat_minor": 2
}
